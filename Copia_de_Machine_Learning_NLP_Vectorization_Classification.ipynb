{
  "nbformat": 4,
  "nbformat_minor": 0,
  "metadata": {
    "colab": {
      "name": "Copia de Machine Learning NLP / Vectorization - Classification.ipynb",
      "provenance": [],
      "collapsed_sections": [],
      "include_colab_link": true
    },
    "kernelspec": {
      "name": "python3",
      "display_name": "Python 3"
    }
  },
  "cells": [
    {
      "cell_type": "markdown",
      "metadata": {
        "id": "view-in-github",
        "colab_type": "text"
      },
      "source": [
        "<a href=\"https://colab.research.google.com/github/eduardez/AlfonsoGarcia/blob/master/Copia_de_Machine_Learning_NLP_Vectorization_Classification.ipynb\" target=\"_parent\"><img src=\"https://colab.research.google.com/assets/colab-badge.svg\" alt=\"Open In Colab\"/></a>"
      ]
    },
    {
      "cell_type": "code",
      "metadata": {
        "id": "ypLyF8_tSbtj",
        "colab": {
          "base_uri": "https://localhost:8080/"
        },
        "outputId": "7fc46713-70ec-488a-83c2-569d91cc0634"
      },
      "source": [
        "# dataframes library\n",
        "!pip install pyspellchecker \n",
        "!pip install contractions\n",
        "!pip install nltk --upgrade\n",
        "!pip install emoji\n",
        "import nltk\n",
        "nltk.download(\"popular\")\n",
        "nltk.download('vader_lexicon') #sentiment analysis\n",
        "nltk.download('twython') #twitter not necessary"
      ],
      "execution_count": null,
      "outputs": [
        {
          "output_type": "stream",
          "text": [
            "Requirement already satisfied: pyspellchecker in /usr/local/lib/python3.6/dist-packages (0.5.5)\n",
            "Requirement already satisfied: contractions in /usr/local/lib/python3.6/dist-packages (0.0.43)\n",
            "Requirement already satisfied: textsearch in /usr/local/lib/python3.6/dist-packages (from contractions) (0.0.17)\n",
            "Requirement already satisfied: Unidecode in /usr/local/lib/python3.6/dist-packages (from textsearch->contractions) (1.1.1)\n",
            "Requirement already satisfied: pyahocorasick in /usr/local/lib/python3.6/dist-packages (from textsearch->contractions) (1.4.0)\n",
            "Requirement already up-to-date: nltk in /usr/local/lib/python3.6/dist-packages (3.5)\n",
            "Requirement already satisfied, skipping upgrade: click in /usr/local/lib/python3.6/dist-packages (from nltk) (7.1.2)\n",
            "Requirement already satisfied, skipping upgrade: tqdm in /usr/local/lib/python3.6/dist-packages (from nltk) (4.41.1)\n",
            "Requirement already satisfied, skipping upgrade: joblib in /usr/local/lib/python3.6/dist-packages (from nltk) (0.17.0)\n",
            "Requirement already satisfied, skipping upgrade: regex in /usr/local/lib/python3.6/dist-packages (from nltk) (2019.12.20)\n",
            "Requirement already satisfied: emoji in /usr/local/lib/python3.6/dist-packages (0.6.0)\n"
          ],
          "name": "stdout"
        },
        {
          "output_type": "stream",
          "text": [
            "[nltk_data] Downloading collection 'popular'\n",
            "[nltk_data]    | \n",
            "[nltk_data]    | Downloading package cmudict to /root/nltk_data...\n",
            "[nltk_data]    |   Package cmudict is already up-to-date!\n",
            "[nltk_data]    | Downloading package gazetteers to /root/nltk_data...\n",
            "[nltk_data]    |   Package gazetteers is already up-to-date!\n",
            "[nltk_data]    | Downloading package genesis to /root/nltk_data...\n",
            "[nltk_data]    |   Package genesis is already up-to-date!\n",
            "[nltk_data]    | Downloading package gutenberg to /root/nltk_data...\n",
            "[nltk_data]    |   Package gutenberg is already up-to-date!\n",
            "[nltk_data]    | Downloading package inaugural to /root/nltk_data...\n",
            "[nltk_data]    |   Package inaugural is already up-to-date!\n",
            "[nltk_data]    | Downloading package movie_reviews to\n",
            "[nltk_data]    |     /root/nltk_data...\n",
            "[nltk_data]    |   Package movie_reviews is already up-to-date!\n",
            "[nltk_data]    | Downloading package names to /root/nltk_data...\n",
            "[nltk_data]    |   Package names is already up-to-date!\n",
            "[nltk_data]    | Downloading package shakespeare to /root/nltk_data...\n",
            "[nltk_data]    |   Package shakespeare is already up-to-date!\n",
            "[nltk_data]    | Downloading package stopwords to /root/nltk_data...\n",
            "[nltk_data]    |   Package stopwords is already up-to-date!\n",
            "[nltk_data]    | Downloading package treebank to /root/nltk_data...\n",
            "[nltk_data]    |   Package treebank is already up-to-date!\n",
            "[nltk_data]    | Downloading package twitter_samples to\n",
            "[nltk_data]    |     /root/nltk_data...\n",
            "[nltk_data]    |   Package twitter_samples is already up-to-date!\n",
            "[nltk_data]    | Downloading package omw to /root/nltk_data...\n",
            "[nltk_data]    |   Package omw is already up-to-date!\n",
            "[nltk_data]    | Downloading package wordnet to /root/nltk_data...\n",
            "[nltk_data]    |   Package wordnet is already up-to-date!\n",
            "[nltk_data]    | Downloading package wordnet_ic to /root/nltk_data...\n",
            "[nltk_data]    |   Package wordnet_ic is already up-to-date!\n",
            "[nltk_data]    | Downloading package words to /root/nltk_data...\n",
            "[nltk_data]    |   Package words is already up-to-date!\n",
            "[nltk_data]    | Downloading package maxent_ne_chunker to\n",
            "[nltk_data]    |     /root/nltk_data...\n",
            "[nltk_data]    |   Package maxent_ne_chunker is already up-to-date!\n",
            "[nltk_data]    | Downloading package punkt to /root/nltk_data...\n",
            "[nltk_data]    |   Package punkt is already up-to-date!\n",
            "[nltk_data]    | Downloading package snowball_data to\n",
            "[nltk_data]    |     /root/nltk_data...\n",
            "[nltk_data]    |   Package snowball_data is already up-to-date!\n",
            "[nltk_data]    | Downloading package averaged_perceptron_tagger to\n",
            "[nltk_data]    |     /root/nltk_data...\n",
            "[nltk_data]    |   Package averaged_perceptron_tagger is already up-\n",
            "[nltk_data]    |       to-date!\n",
            "[nltk_data]    | \n",
            "[nltk_data]  Done downloading collection popular\n",
            "[nltk_data] Downloading package vader_lexicon to /root/nltk_data...\n",
            "[nltk_data]   Package vader_lexicon is already up-to-date!\n",
            "[nltk_data] Error loading twython: Package 'twython' not found in\n",
            "[nltk_data]     index\n"
          ],
          "name": "stderr"
        },
        {
          "output_type": "execute_result",
          "data": {
            "text/plain": [
              "False"
            ]
          },
          "metadata": {
            "tags": []
          },
          "execution_count": 1
        }
      ]
    },
    {
      "cell_type": "code",
      "metadata": {
        "id": "xBkAsTyINPsj",
        "colab": {
          "base_uri": "https://localhost:8080/",
          "height": 375
        },
        "outputId": "458336ef-3c4c-44e6-dcab-d4bafe34c35f"
      },
      "source": [
        "import pandas as pd\n",
        "import re\n",
        "\n",
        "from nltk.tokenize.casual import TweetTokenizer\n",
        "from nltk.tokenize import word_tokenize\n",
        "from nltk.tokenize import sent_tokenize\n",
        "from nltk.corpus import stopwords\n",
        "from nltk.stem import PorterStemmer\n",
        "from nltk.stem import WordNetLemmatizer\n",
        "from nltk import ngrams, pos_tag\n",
        "from ast import literal_eval\n",
        "\n",
        "#Correcciones y emoji\n",
        "import emoji\n",
        "from textblob import TextBlob\n",
        "from spellchecker import SpellChecker\n",
        "import contractions\n",
        "from multiprocessing import Pool\n",
        "\n",
        "#Vectorization\n",
        "from sklearn.feature_extraction.text import TfidfVectorizer\n",
        "\n",
        "#Feature selection \n",
        "from sklearn.feature_selection import SelectKBest, chi2\n",
        "\n",
        "#Classification\n",
        "from sklearn.model_selection import train_test_split\n",
        "\n",
        "from sklearn.naive_bayes import GaussianNB, MultinomialNB, BernoulliNB, ComplementNB\n",
        "\n",
        "#Visualization and results\n",
        "from sklearn.metrics import confusion_matrix\n",
        "import seaborn as sns; sns.set()\n",
        "import matplotlib.pyplot as plt\n",
        "from sklearn.metrics import accuracy_score\n",
        "from sklearn.metrics import precision_recall_fscore_support as score\n",
        "from tabulate import tabulate\n",
        "\n",
        "#knn\n",
        "from sklearn import neighbors\n",
        "from sklearn.model_selection import KFold\n",
        "import numpy as np"
      ],
      "execution_count": 2,
      "outputs": [
        {
          "output_type": "error",
          "ename": "ModuleNotFoundError",
          "evalue": "ignored",
          "traceback": [
            "\u001b[0;31m---------------------------------------------------------------------------\u001b[0m",
            "\u001b[0;31mModuleNotFoundError\u001b[0m                       Traceback (most recent call last)",
            "\u001b[0;32m<ipython-input-2-a27cc600c41c>\u001b[0m in \u001b[0;36m<module>\u001b[0;34m()\u001b[0m\n\u001b[1;32m     12\u001b[0m \u001b[0;34m\u001b[0m\u001b[0m\n\u001b[1;32m     13\u001b[0m \u001b[0;31m#Correcciones y emoji\u001b[0m\u001b[0;34m\u001b[0m\u001b[0;34m\u001b[0m\u001b[0;34m\u001b[0m\u001b[0m\n\u001b[0;32m---> 14\u001b[0;31m \u001b[0;32mimport\u001b[0m \u001b[0memoji\u001b[0m\u001b[0;34m\u001b[0m\u001b[0;34m\u001b[0m\u001b[0m\n\u001b[0m\u001b[1;32m     15\u001b[0m \u001b[0;32mfrom\u001b[0m \u001b[0mtextblob\u001b[0m \u001b[0;32mimport\u001b[0m \u001b[0mTextBlob\u001b[0m\u001b[0;34m\u001b[0m\u001b[0;34m\u001b[0m\u001b[0m\n\u001b[1;32m     16\u001b[0m \u001b[0;32mfrom\u001b[0m \u001b[0mspellchecker\u001b[0m \u001b[0;32mimport\u001b[0m \u001b[0mSpellChecker\u001b[0m\u001b[0;34m\u001b[0m\u001b[0;34m\u001b[0m\u001b[0m\n",
            "\u001b[0;31mModuleNotFoundError\u001b[0m: No module named 'emoji'",
            "",
            "\u001b[0;31m---------------------------------------------------------------------------\u001b[0;32m\nNOTE: If your import is failing due to a missing package, you can\nmanually install dependencies using either !pip or !apt.\n\nTo view examples of installing some common dependencies, click the\n\"Open Examples\" button below.\n\u001b[0;31m---------------------------------------------------------------------------\u001b[0m\n"
          ]
        }
      ]
    },
    {
      "cell_type": "markdown",
      "metadata": {
        "id": "fSnWyBdCm8V2"
      },
      "source": [
        "# Post-processing and Dataset configuration\n",
        "\n",
        "Dataset options:\n",
        " - Dataset Hard:\n",
        " - Dataset Soft:\n",
        "\n",
        "Post-Processing options:\n",
        " - N-Grams:\n",
        " - POS Tagging\n",
        " - RT Count\n",
        "\n"
      ]
    },
    {
      "cell_type": "code",
      "metadata": {
        "id": "waRaXZN20r06"
      },
      "source": [
        "#@title Configuration input\n",
        "choosen_df = 'Hard' #@param [\"Hard\", \"Soft\"]\n",
        "use_ngrams = True #@param {type:\"boolean\"}\n",
        "use_POS_taggin = True #@param {type:\"boolean\"}\n",
        "use_RT_count = True #@param {type:\"boolean\"}\n",
        "\n",
        "url_soft_df = 'https://raw.githubusercontent.com/manuvillalba-uclm/Natural_Lenguaje_Processing-ELM/main/preprocesado_soft.csv?token=AHJ5UMFESTHGL4DK6Q7OIPC74DAU4'\n",
        "url_hard_df = 'https://raw.githubusercontent.com/manuvillalba-uclm/Natural_Lenguaje_Processing-ELM/main/preprocesado_hard.csv?token=AHJ5UME4YXBZBT27XRCHZDC74DAUY'\n",
        "url_df = ''\n",
        "if choosen_df == 'Hard':\n",
        "  url_df = url_hard_df\n",
        "else:\n",
        "  url_df = url_soft_df\n",
        "\n",
        "ds_alt_twitter = pd.read_csv(url_df, index_col=[0])\n",
        "# ds_alt_twitter\n"
      ],
      "execution_count": null,
      "outputs": []
    },
    {
      "cell_type": "markdown",
      "metadata": {
        "id": "N9NtuCCW61nw"
      },
      "source": [
        "## N-grams\n"
      ]
    },
    {
      "cell_type": "code",
      "metadata": {
        "id": "iC3yhbEi67D6"
      },
      "source": [
        "ngram_url = 'https://raw.githubusercontent.com/manuvillalba-uclm/Natural_Lenguaje_Processing-ELM/main/refined_ngram_dict.csv?token=AHJ5UMBEPPGBHSVIT2JN3FS74W7UI'\n",
        "df_ngram = pd.read_csv(ngram_url)\n",
        "\n",
        "df_tweet_array = ds_alt_twitter['tweet'].apply(literal_eval)#reconvertir a listas la columna de tweets\n"
      ],
      "execution_count": 5,
      "outputs": []
    },
    {
      "cell_type": "code",
      "metadata": {
        "id": "Fmvtw_E27IBs"
      },
      "source": [
        "def setWeight(frase):\n",
        "  fixed_frase = \" \".join(frase) #Supongo que la ultima version del preprocesado también estara en vector de palabras\n",
        "  found_prophate = 0\n",
        "  for i in range(1,5):\n",
        "    # Ejecutar la division en n-grams\n",
        "    split_ngrams = ngrams(fixed_frase.split(), i)\n",
        "    for gr in split_ngrams:\n",
        "      posible_prophate = ' '.join(gr) #Convertimos el n-gram en frase\n",
        "      ngram_search = df_ngram[df_ngram['ngram'] == posible_prophate]\n",
        "      if len(ngram_search) > 0 : #Si ha encontrado alguna coincidencia, se sustituye el prophate\n",
        "        aux_prophate = ngram_search['prophate'].item()\n",
        "        if aux_prophate > found_prophate:\n",
        "          found_prophate = aux_prophate #Nos quedamos con el mayor prophate\n",
        "  return found_prophate"
      ],
      "execution_count": 6,
      "outputs": []
    },
    {
      "cell_type": "code",
      "metadata": {
        "id": "pIW1TYcC7KP4",
        "colab": {
          "base_uri": "https://localhost:8080/"
        },
        "outputId": "8c55cff6-1535-447c-c083-b4e0c3aa9f7e"
      },
      "source": [
        "if use_ngrams:\n",
        "  ds_alt_twitter['prophate'] = df_tweet_array.apply(setWeight)\n",
        "  print(ds_alt_twitter[ds_alt_twitter.prophate > 0].head(500).to_markdown())"
      ],
      "execution_count": null,
      "outputs": [
        {
          "output_type": "stream",
          "text": [
            "/usr/local/lib/python3.6/dist-packages/ipykernel_launcher.py:7: DeprecationWarning: generator 'ngrams' raised StopIteration\n",
            "  import sys\n"
          ],
          "name": "stderr"
        }
      ]
    },
    {
      "cell_type": "markdown",
      "metadata": {
        "id": "q5u4hmYK9TLT"
      },
      "source": [
        "## POS-Tagging\n"
      ]
    },
    {
      "cell_type": "code",
      "metadata": {
        "id": "6yv9Cz889rB5"
      },
      "source": [
        "df_tweet_array = ds_alt_twitter['tweet'].apply(literal_eval)#reconvertir a listas la columna de tweets\n",
        "\n",
        "if use_POS_taggin:\n",
        "  ds_alt_twitter['pos'] = df_tweet_array.apply(nltk.pos_tag)"
      ],
      "execution_count": null,
      "outputs": []
    },
    {
      "cell_type": "markdown",
      "metadata": {
        "id": "EINAEtIiAnYL"
      },
      "source": [
        "# Final post-processing\n"
      ]
    },
    {
      "cell_type": "code",
      "metadata": {
        "id": "pnL8k5JRAqwU",
        "colab": {
          "base_uri": "https://localhost:8080/",
          "height": 424
        },
        "outputId": "0e9e1623-5c37-4395-e42e-6694fb507980"
      },
      "source": [
        "ds_alt_twitter"
      ],
      "execution_count": null,
      "outputs": [
        {
          "output_type": "execute_result",
          "data": {
            "text/html": [
              "<div>\n",
              "<style scoped>\n",
              "    .dataframe tbody tr th:only-of-type {\n",
              "        vertical-align: middle;\n",
              "    }\n",
              "\n",
              "    .dataframe tbody tr th {\n",
              "        vertical-align: top;\n",
              "    }\n",
              "\n",
              "    .dataframe thead th {\n",
              "        text-align: right;\n",
              "    }\n",
              "</style>\n",
              "<table border=\"1\" class=\"dataframe\">\n",
              "  <thead>\n",
              "    <tr style=\"text-align: right;\">\n",
              "      <th></th>\n",
              "      <th>tweet</th>\n",
              "      <th>prophate</th>\n",
              "      <th>pos</th>\n",
              "    </tr>\n",
              "  </thead>\n",
              "  <tbody>\n",
              "    <tr>\n",
              "      <th>0</th>\n",
              "      <td>['trash', 'man', 'take', 'clean', 'hous', 'alw...</td>\n",
              "      <td>0.0</td>\n",
              "      <td>[(trash, JJ), (man, NN), (take, VB), (clean, J...</td>\n",
              "    </tr>\n",
              "    <tr>\n",
              "      <th>1</th>\n",
              "      <td>['boy', 'dat', 'bad', 'place', 'coffin', 'hoe'...</td>\n",
              "      <td>0.0</td>\n",
              "      <td>[(boy, NN), (dat, NN), (bad, JJ), (place, NN),...</td>\n",
              "    </tr>\n",
              "    <tr>\n",
              "      <th>2</th>\n",
              "      <td>['dawg', 'confus', 'bitch', 'fuck', 'ever', 'c...</td>\n",
              "      <td>0.0</td>\n",
              "      <td>[(dawg, NN), (confus, NN), (bitch, NN), (fuck,...</td>\n",
              "    </tr>\n",
              "    <tr>\n",
              "      <th>3</th>\n",
              "      <td>['tranni', 'like', 'look']</td>\n",
              "      <td>0.0</td>\n",
              "      <td>[(tranni, NNS), (like, IN), (look, NN)]</td>\n",
              "    </tr>\n",
              "    <tr>\n",
              "      <th>4</th>\n",
              "      <td>['bitch', 'true', 'hear', 'told', 'faker', 'sh...</td>\n",
              "      <td>0.0</td>\n",
              "      <td>[(bitch, NN), (true, JJ), (hear, NN), (told, V...</td>\n",
              "    </tr>\n",
              "    <tr>\n",
              "      <th>...</th>\n",
              "      <td>...</td>\n",
              "      <td>...</td>\n",
              "      <td>...</td>\n",
              "    </tr>\n",
              "    <tr>\n",
              "      <th>24778</th>\n",
              "      <td>['scriptur', 'trash', 'tl', 'right', 'lie', 'b...</td>\n",
              "      <td>0.0</td>\n",
              "      <td>[(scriptur, NN), (trash, NN), (tl, NN), (right...</td>\n",
              "    </tr>\n",
              "    <tr>\n",
              "      <th>24779</th>\n",
              "      <td>['gone', 'redneck', 'babi', 'crazi', 'wrong', ...</td>\n",
              "      <td>0.0</td>\n",
              "      <td>[(gone, VBN), (redneck, NN), (babi, NN), (craz...</td>\n",
              "    </tr>\n",
              "    <tr>\n",
              "      <th>24780</th>\n",
              "      <td>['want', 'di', 'like', 'fuck', 'young', 'dat',...</td>\n",
              "      <td>0.0</td>\n",
              "      <td>[(want, JJ), (di, NN), (like, IN), (fuck, NN),...</td>\n",
              "    </tr>\n",
              "    <tr>\n",
              "      <th>24781</th>\n",
              "      <td>['lie', 'bitch', 'tell', 'got', 'wild']</td>\n",
              "      <td>0.0</td>\n",
              "      <td>[(lie, JJ), (bitch, NN), (tell, NN), (got, VBD...</td>\n",
              "    </tr>\n",
              "    <tr>\n",
              "      <th>24782</th>\n",
              "      <td>['coll', 'ruffl', 'tac', 'pink', 'yellow', 'or...</td>\n",
              "      <td>0.0</td>\n",
              "      <td>[(coll, NN), (ruffl, NN), (tac, NN), (pink, VB...</td>\n",
              "    </tr>\n",
              "  </tbody>\n",
              "</table>\n",
              "<p>24783 rows × 3 columns</p>\n",
              "</div>"
            ],
            "text/plain": [
              "                                                   tweet  ...                                                pos\n",
              "0      ['trash', 'man', 'take', 'clean', 'hous', 'alw...  ...  [(trash, JJ), (man, NN), (take, VB), (clean, J...\n",
              "1      ['boy', 'dat', 'bad', 'place', 'coffin', 'hoe'...  ...  [(boy, NN), (dat, NN), (bad, JJ), (place, NN),...\n",
              "2      ['dawg', 'confus', 'bitch', 'fuck', 'ever', 'c...  ...  [(dawg, NN), (confus, NN), (bitch, NN), (fuck,...\n",
              "3                             ['tranni', 'like', 'look']  ...            [(tranni, NNS), (like, IN), (look, NN)]\n",
              "4      ['bitch', 'true', 'hear', 'told', 'faker', 'sh...  ...  [(bitch, NN), (true, JJ), (hear, NN), (told, V...\n",
              "...                                                  ...  ...                                                ...\n",
              "24778  ['scriptur', 'trash', 'tl', 'right', 'lie', 'b...  ...  [(scriptur, NN), (trash, NN), (tl, NN), (right...\n",
              "24779  ['gone', 'redneck', 'babi', 'crazi', 'wrong', ...  ...  [(gone, VBN), (redneck, NN), (babi, NN), (craz...\n",
              "24780  ['want', 'di', 'like', 'fuck', 'young', 'dat',...  ...  [(want, JJ), (di, NN), (like, IN), (fuck, NN),...\n",
              "24781            ['lie', 'bitch', 'tell', 'got', 'wild']  ...  [(lie, JJ), (bitch, NN), (tell, NN), (got, VBD...\n",
              "24782  ['coll', 'ruffl', 'tac', 'pink', 'yellow', 'or...  ...  [(coll, NN), (ruffl, NN), (tac, NN), (pink, VB...\n",
              "\n",
              "[24783 rows x 3 columns]"
            ]
          },
          "metadata": {
            "tags": []
          },
          "execution_count": 15
        }
      ]
    },
    {
      "cell_type": "markdown",
      "metadata": {
        "id": "YNbc6YkK9mBP"
      },
      "source": [
        "#Vectorization"
      ]
    },
    {
      "cell_type": "code",
      "metadata": {
        "id": "pL3mkFQFrHW2"
      },
      "source": [
        "def identity_tokenizer(text):\n",
        "    return text"
      ],
      "execution_count": null,
      "outputs": []
    },
    {
      "cell_type": "code",
      "metadata": {
        "id": "TtwBBcIUnN5-"
      },
      "source": [
        "%%time\n",
        "# TF-IDF\n",
        "vectorizer = TfidfVectorizer(lowercase=False, max_features=8000, ngram_range=(1,4))    \n",
        "vectors = vectorizer.fit_transform(ds_alt_twitter['tweet']) #esto hay que mirarlo\n",
        "\n",
        "#We have to clean some variables, because we need storage in RAM later\n",
        "feature_names = vectorizer.get_feature_names()\n",
        "dense = vectors.todense()\n",
        "vectors = None\n",
        "denselist = dense.tolist()\n",
        "dense = None\n",
        "tweets_vectorization = pd.DataFrame(denselist, columns=feature_names)\n",
        "denselist =None\n",
        "\n",
        "\n"
      ],
      "execution_count": null,
      "outputs": []
    },
    {
      "cell_type": "code",
      "metadata": {
        "id": "MVQOKRsFMZaH",
        "colab": {
          "base_uri": "https://localhost:8080/",
          "height": 143
        },
        "outputId": "0e99f1bf-f75b-4aa8-aefe-59c8bd86bff3"
      },
      "source": [
        "tweets_vectorization"
      ],
      "execution_count": null,
      "outputs": [
        {
          "output_type": "execute_result",
          "data": {
            "text/html": [
              "<div>\n",
              "<style scoped>\n",
              "    .dataframe tbody tr th:only-of-type {\n",
              "        vertical-align: middle;\n",
              "    }\n",
              "\n",
              "    .dataframe tbody tr th {\n",
              "        vertical-align: top;\n",
              "    }\n",
              "\n",
              "    .dataframe thead th {\n",
              "        text-align: right;\n",
              "    }\n",
              "</style>\n",
              "<table border=\"1\" class=\"dataframe\">\n",
              "  <thead>\n",
              "    <tr style=\"text-align: right;\">\n",
              "      <th></th>\n",
              "      <th>pos</th>\n",
              "      <th>prophate</th>\n",
              "      <th>tweet</th>\n",
              "    </tr>\n",
              "  </thead>\n",
              "  <tbody>\n",
              "    <tr>\n",
              "      <th>0</th>\n",
              "      <td>0.0</td>\n",
              "      <td>0.0</td>\n",
              "      <td>1.0</td>\n",
              "    </tr>\n",
              "    <tr>\n",
              "      <th>1</th>\n",
              "      <td>0.0</td>\n",
              "      <td>1.0</td>\n",
              "      <td>0.0</td>\n",
              "    </tr>\n",
              "    <tr>\n",
              "      <th>2</th>\n",
              "      <td>1.0</td>\n",
              "      <td>0.0</td>\n",
              "      <td>0.0</td>\n",
              "    </tr>\n",
              "  </tbody>\n",
              "</table>\n",
              "</div>"
            ],
            "text/plain": [
              "   pos  prophate  tweet\n",
              "0  0.0       0.0    1.0\n",
              "1  0.0       1.0    0.0\n",
              "2  1.0       0.0    0.0"
            ]
          },
          "metadata": {
            "tags": []
          },
          "execution_count": 17
        }
      ]
    },
    {
      "cell_type": "markdown",
      "metadata": {
        "id": "CmLhRktQyXuP"
      },
      "source": [
        "# Feature Selection"
      ]
    },
    {
      "cell_type": "code",
      "metadata": {
        "id": "LBguGSqF32eW"
      },
      "source": [
        "class_label = raw_dataset_tweets.copy()\n",
        "class_label = class_label['class']\n"
      ],
      "execution_count": null,
      "outputs": []
    },
    {
      "cell_type": "code",
      "metadata": {
        "id": "7EwpHqVfryVX",
        "colab": {
          "base_uri": "https://localhost:8080/"
        },
        "outputId": "79512609-c3de-4cdb-8578-de822b344ea7"
      },
      "source": [
        "%%time\n",
        "\n",
        "n_tweets = tweets_vectorization.shape[0]\n",
        "n_features = tweets_vectorization.shape[1]\n",
        "n_features = int(n_features*0.3)\n",
        "\n",
        "class_label = class_label.iloc[0:n_tweets]\n",
        "class_label.reset_index(inplace = True, drop = True)\n",
        "#quitamos el 70% de las features, se supone que en función del target class_label\n",
        "tweets_vectorization = SelectKBest(chi2, k=n_features).fit_transform(tweets_vectorization,class_label)\n",
        "tweets_vectorization\n",
        "\n",
        "df_tweets_vectorization_selected = pd.DataFrame(data=tweets_vectorization)\n",
        "df_tweets_vectorization_selected['target']= class_label"
      ],
      "execution_count": null,
      "outputs": [
        {
          "output_type": "stream",
          "text": [
            "CPU times: user 1.84 s, sys: 154 ms, total: 1.99 s\n",
            "Wall time: 1.49 s\n"
          ],
          "name": "stdout"
        }
      ]
    },
    {
      "cell_type": "markdown",
      "metadata": {
        "id": "MeaZt3Wn8i0X"
      },
      "source": [
        "# Classification"
      ]
    },
    {
      "cell_type": "code",
      "metadata": {
        "id": "2s6lmFMa9d_j"
      },
      "source": [
        "tweets_classification = df_tweets_vectorization_selected.copy()"
      ],
      "execution_count": null,
      "outputs": []
    },
    {
      "cell_type": "code",
      "metadata": {
        "id": "okFrPUTaWGHD"
      },
      "source": [
        "model = BernoulliNB()"
      ],
      "execution_count": null,
      "outputs": []
    },
    {
      "cell_type": "code",
      "metadata": {
        "id": "xqUrulDl5Ern",
        "colab": {
          "base_uri": "https://localhost:8080/"
        },
        "outputId": "797dfbcb-ce7f-47f0-866f-a5b33b5d334d"
      },
      "source": [
        "train, test = train_test_split(tweets_classification, test_size=0.30)\n",
        "train.reset_index(inplace = True)\n",
        "test.reset_index(inplace = True)\n",
        "print(train.shape)\n",
        "print(test.shape)"
      ],
      "execution_count": null,
      "outputs": [
        {
          "output_type": "stream",
          "text": [
            "(17348, 2402)\n",
            "(7435, 2402)\n"
          ],
          "name": "stdout"
        }
      ]
    },
    {
      "cell_type": "code",
      "metadata": {
        "id": "FqnRvEVuWOpy"
      },
      "source": [
        "model.fit(train.loc[:, train.columns != 'target'], train['target'])\n",
        "labels = model.predict(test.loc[:, test.columns != 'target'])"
      ],
      "execution_count": null,
      "outputs": []
    },
    {
      "cell_type": "markdown",
      "metadata": {
        "id": "y38YkUBJA_WH"
      },
      "source": [
        "# Evaluation"
      ]
    },
    {
      "cell_type": "code",
      "metadata": {
        "colab": {
          "base_uri": "https://localhost:8080/",
          "height": 285
        },
        "id": "jlMw1-ZPWs2C",
        "outputId": "1b2797f4-464f-4ea3-8cd1-c271f1bdf28c"
      },
      "source": [
        "from sklearn.metrics import confusion_matrix\n",
        "import seaborn as sns; sns.set()\n",
        "import matplotlib.pyplot as plt\n",
        "mat = confusion_matrix(test['target'], labels)\n",
        "sns.heatmap(mat.T, square=True, annot=True, fmt='d', cbar=False,\n",
        "            xticklabels=[0,1,2], yticklabels=[0,1,2])\n",
        "plt.xlabel('true label')\n",
        "plt.ylabel('predicted label');"
      ],
      "execution_count": null,
      "outputs": [
        {
          "output_type": "display_data",
          "data": {
            "image/png": "[encoded data removed]",
            "text/plain": [
              "<Figure size 432x288 with 1 Axes>"
            ]
          },
          "metadata": {
            "tags": []
          }
        }
      ]
    },
    {
      "cell_type": "code",
      "metadata": {
        "colab": {
          "base_uri": "https://localhost:8080/"
        },
        "id": "gTd4MQvgFMP3",
        "outputId": "8158c1b1-e48b-44be-f1bc-4ebb7723d3ac"
      },
      "source": [
        "\r\n",
        "precision, recall, fscore, support = score(test['target'], labels)\r\n",
        "print(tabulate({'Name': ['hate speech', 'offensive lenguage', 'neither'], 'Class': [0,1,2],'Precision':precision, 'Recall': recall, 'F-Score': fscore, 'Support': support} , headers=['Name','Class','Precision', 'Recall','F-Score','Support'], tablefmt='orgtbl'))"
      ],
      "execution_count": null,
      "outputs": [
        {
          "output_type": "stream",
          "text": [
            "| Name               |   Class |   Precision |   Recall |   F-Score |   Support |\n",
            "|--------------------+---------+-------------+----------+-----------+-----------|\n",
            "| hate speech        |       0 |    0.469828 | 0.269136 |  0.342229 |       405 |\n",
            "| offensive lenguage |       1 |    0.933877 | 0.948222 |  0.940995 |      5794 |\n",
            "| neither            |       2 |    0.815909 | 0.871359 |  0.842723 |      1236 |\n"
          ],
          "name": "stdout"
        }
      ]
    },
    {
      "cell_type": "markdown",
      "metadata": {
        "id": "-jzmqqnXFxxP"
      },
      "source": [
        "We know that accuracy is not a correct metric to evaluate these types of problems, but we are just curious"
      ]
    },
    {
      "cell_type": "code",
      "metadata": {
        "colab": {
          "base_uri": "https://localhost:8080/"
        },
        "id": "b04paDZPaOOT",
        "outputId": "b0ff738b-cffc-4cfc-f9fd-869ba01f1124"
      },
      "source": [
        "acc = accuracy_score(test['target'], labels)\n",
        "print ('Acc', acc)"
      ],
      "execution_count": null,
      "outputs": [
        {
          "output_type": "stream",
          "text": [
            "Acc 0.898453261600538\n"
          ],
          "name": "stdout"
        }
      ]
    },
    {
      "cell_type": "markdown",
      "metadata": {
        "id": "X8qA4FmDP3xe"
      },
      "source": [
        "# Prueba con Knn"
      ]
    },
    {
      "cell_type": "code",
      "metadata": {
        "colab": {
          "base_uri": "https://localhost:8080/"
        },
        "id": "4XmVq4cRQCgu",
        "outputId": "a670d83e-0f3a-4b53-d7f7-1630a4be1078"
      },
      "source": [
        "train_knn, test_knn = train_test_split(tweets_classification, test_size=0.30)\r\n",
        "train_knn.reset_index(inplace = True)\r\n",
        "test_knn.reset_index(inplace = True)\r\n",
        "print(train_knn.shape)\r\n",
        "print(test_knn.shape)"
      ],
      "execution_count": null,
      "outputs": [
        {
          "output_type": "stream",
          "text": [
            "(17348, 2402)\n",
            "(7435, 2402)\n"
          ],
          "name": "stdout"
        }
      ]
    },
    {
      "cell_type": "code",
      "metadata": {
        "colab": {
          "base_uri": "https://localhost:8080/",
          "height": 1000
        },
        "id": "4Kv_KA2eP7g4",
        "outputId": "f8ed66a4-74e6-4f2f-e56e-4a36a18a8e8e"
      },
      "source": [
        "cv = KFold(n_splits = 2, shuffle = True) # shuffle = False si hay dimensión temporal \r\n",
        "\r\n",
        "for i, weights in enumerate(['uniform', 'distance']):\r\n",
        "   total_scores = []\r\n",
        "   for n_neighbors in range(1,30):\r\n",
        "       fold_score= []\r\n",
        "       knn = neighbors.KNeighborsClassifier(n_neighbors, weights=weights)\r\n",
        "       for train_fold, test_fold in cv.split(train_knn):\r\n",
        "          # División train test aleatoria\r\n",
        "          f_train = train_knn.loc[train_fold]\r\n",
        "          f_test = train_knn.loc[test_fold]\r\n",
        "          # entrenamiento y ejecución del modelo\r\n",
        "          knn.fit( X = f_train.drop(['target'], axis=1), \r\n",
        "                               y = f_train['target'])\r\n",
        "          y_pred = knn.predict(X = f_test.drop(['target'], axis = 1))\r\n",
        "          # evaluación del modelo\r\n",
        "          precision, recall, fscore, support = score(f_test['target'], y_pred)\r\n",
        "          \r\n",
        "          fold_score.append(((sum(precision)/3)+(sum(recall)/3))/2)\r\n",
        "       total_scores.append(sum(fold_score)/len(fold_score))\r\n",
        "   \r\n",
        "   plt.plot(range(1,len(total_scores)+1), total_scores, \r\n",
        "             marker='o', label=weights)\r\n",
        "   print ('Max Value ' +  weights + \" : \" +  str(max(total_scores)) +\" (\" + str(np.argmax(total_scores) + 1) + \")\")\r\n",
        "   plt.ylabel('Precision/Recall')      \r\n",
        "    \r\n",
        "\r\n",
        "plt.legend()\r\n",
        "plt.show() "
      ],
      "execution_count": null,
      "outputs": [
        {
          "output_type": "stream",
          "text": [
            "/usr/local/lib/python3.6/dist-packages/sklearn/metrics/_classification.py:1272: UndefinedMetricWarning: Precision and F-score are ill-defined and being set to 0.0 in labels with no predicted samples. Use `zero_division` parameter to control this behavior.\n",
            "  _warn_prf(average, modifier, msg_start, len(result))\n",
            "/usr/local/lib/python3.6/dist-packages/sklearn/metrics/_classification.py:1272: UndefinedMetricWarning: Precision and F-score are ill-defined and being set to 0.0 in labels with no predicted samples. Use `zero_division` parameter to control this behavior.\n",
            "  _warn_prf(average, modifier, msg_start, len(result))\n",
            "/usr/local/lib/python3.6/dist-packages/sklearn/metrics/_classification.py:1272: UndefinedMetricWarning: Precision and F-score are ill-defined and being set to 0.0 in labels with no predicted samples. Use `zero_division` parameter to control this behavior.\n",
            "  _warn_prf(average, modifier, msg_start, len(result))\n",
            "/usr/local/lib/python3.6/dist-packages/sklearn/metrics/_classification.py:1272: UndefinedMetricWarning: Precision and F-score are ill-defined and being set to 0.0 in labels with no predicted samples. Use `zero_division` parameter to control this behavior.\n",
            "  _warn_prf(average, modifier, msg_start, len(result))\n",
            "/usr/local/lib/python3.6/dist-packages/sklearn/metrics/_classification.py:1272: UndefinedMetricWarning: Precision and F-score are ill-defined and being set to 0.0 in labels with no predicted samples. Use `zero_division` parameter to control this behavior.\n",
            "  _warn_prf(average, modifier, msg_start, len(result))\n",
            "/usr/local/lib/python3.6/dist-packages/sklearn/metrics/_classification.py:1272: UndefinedMetricWarning: Precision and F-score are ill-defined and being set to 0.0 in labels with no predicted samples. Use `zero_division` parameter to control this behavior.\n",
            "  _warn_prf(average, modifier, msg_start, len(result))\n",
            "/usr/local/lib/python3.6/dist-packages/sklearn/metrics/_classification.py:1272: UndefinedMetricWarning: Precision and F-score are ill-defined and being set to 0.0 in labels with no predicted samples. Use `zero_division` parameter to control this behavior.\n",
            "  _warn_prf(average, modifier, msg_start, len(result))\n",
            "/usr/local/lib/python3.6/dist-packages/sklearn/metrics/_classification.py:1272: UndefinedMetricWarning: Precision and F-score are ill-defined and being set to 0.0 in labels with no predicted samples. Use `zero_division` parameter to control this behavior.\n",
            "  _warn_prf(average, modifier, msg_start, len(result))\n",
            "/usr/local/lib/python3.6/dist-packages/sklearn/metrics/_classification.py:1272: UndefinedMetricWarning: Precision and F-score are ill-defined and being set to 0.0 in labels with no predicted samples. Use `zero_division` parameter to control this behavior.\n",
            "  _warn_prf(average, modifier, msg_start, len(result))\n",
            "/usr/local/lib/python3.6/dist-packages/sklearn/metrics/_classification.py:1272: UndefinedMetricWarning: Precision and F-score are ill-defined and being set to 0.0 in labels with no predicted samples. Use `zero_division` parameter to control this behavior.\n",
            "  _warn_prf(average, modifier, msg_start, len(result))\n",
            "/usr/local/lib/python3.6/dist-packages/sklearn/metrics/_classification.py:1272: UndefinedMetricWarning: Precision and F-score are ill-defined and being set to 0.0 in labels with no predicted samples. Use `zero_division` parameter to control this behavior.\n",
            "  _warn_prf(average, modifier, msg_start, len(result))\n",
            "/usr/local/lib/python3.6/dist-packages/sklearn/metrics/_classification.py:1272: UndefinedMetricWarning: Precision and F-score are ill-defined and being set to 0.0 in labels with no predicted samples. Use `zero_division` parameter to control this behavior.\n",
            "  _warn_prf(average, modifier, msg_start, len(result))\n",
            "/usr/local/lib/python3.6/dist-packages/sklearn/metrics/_classification.py:1272: UndefinedMetricWarning: Precision and F-score are ill-defined and being set to 0.0 in labels with no predicted samples. Use `zero_division` parameter to control this behavior.\n",
            "  _warn_prf(average, modifier, msg_start, len(result))\n",
            "/usr/local/lib/python3.6/dist-packages/sklearn/metrics/_classification.py:1272: UndefinedMetricWarning: Precision and F-score are ill-defined and being set to 0.0 in labels with no predicted samples. Use `zero_division` parameter to control this behavior.\n",
            "  _warn_prf(average, modifier, msg_start, len(result))\n",
            "/usr/local/lib/python3.6/dist-packages/sklearn/metrics/_classification.py:1272: UndefinedMetricWarning: Precision and F-score are ill-defined and being set to 0.0 in labels with no predicted samples. Use `zero_division` parameter to control this behavior.\n",
            "  _warn_prf(average, modifier, msg_start, len(result))\n",
            "/usr/local/lib/python3.6/dist-packages/sklearn/metrics/_classification.py:1272: UndefinedMetricWarning: Precision and F-score are ill-defined and being set to 0.0 in labels with no predicted samples. Use `zero_division` parameter to control this behavior.\n",
            "  _warn_prf(average, modifier, msg_start, len(result))\n",
            "/usr/local/lib/python3.6/dist-packages/sklearn/metrics/_classification.py:1272: UndefinedMetricWarning: Precision and F-score are ill-defined and being set to 0.0 in labels with no predicted samples. Use `zero_division` parameter to control this behavior.\n",
            "  _warn_prf(average, modifier, msg_start, len(result))\n",
            "/usr/local/lib/python3.6/dist-packages/sklearn/metrics/_classification.py:1272: UndefinedMetricWarning: Precision and F-score are ill-defined and being set to 0.0 in labels with no predicted samples. Use `zero_division` parameter to control this behavior.\n",
            "  _warn_prf(average, modifier, msg_start, len(result))\n",
            "/usr/local/lib/python3.6/dist-packages/sklearn/metrics/_classification.py:1272: UndefinedMetricWarning: Precision and F-score are ill-defined and being set to 0.0 in labels with no predicted samples. Use `zero_division` parameter to control this behavior.\n",
            "  _warn_prf(average, modifier, msg_start, len(result))\n",
            "/usr/local/lib/python3.6/dist-packages/sklearn/metrics/_classification.py:1272: UndefinedMetricWarning: Precision and F-score are ill-defined and being set to 0.0 in labels with no predicted samples. Use `zero_division` parameter to control this behavior.\n",
            "  _warn_prf(average, modifier, msg_start, len(result))\n",
            "/usr/local/lib/python3.6/dist-packages/sklearn/metrics/_classification.py:1272: UndefinedMetricWarning: Precision and F-score are ill-defined and being set to 0.0 in labels with no predicted samples. Use `zero_division` parameter to control this behavior.\n",
            "  _warn_prf(average, modifier, msg_start, len(result))\n",
            "/usr/local/lib/python3.6/dist-packages/sklearn/metrics/_classification.py:1272: UndefinedMetricWarning: Precision and F-score are ill-defined and being set to 0.0 in labels with no predicted samples. Use `zero_division` parameter to control this behavior.\n",
            "  _warn_prf(average, modifier, msg_start, len(result))\n",
            "/usr/local/lib/python3.6/dist-packages/sklearn/metrics/_classification.py:1272: UndefinedMetricWarning: Precision and F-score are ill-defined and being set to 0.0 in labels with no predicted samples. Use `zero_division` parameter to control this behavior.\n",
            "  _warn_prf(average, modifier, msg_start, len(result))\n",
            "/usr/local/lib/python3.6/dist-packages/sklearn/metrics/_classification.py:1272: UndefinedMetricWarning: Precision and F-score are ill-defined and being set to 0.0 in labels with no predicted samples. Use `zero_division` parameter to control this behavior.\n",
            "  _warn_prf(average, modifier, msg_start, len(result))\n",
            "/usr/local/lib/python3.6/dist-packages/sklearn/metrics/_classification.py:1272: UndefinedMetricWarning: Precision and F-score are ill-defined and being set to 0.0 in labels with no predicted samples. Use `zero_division` parameter to control this behavior.\n",
            "  _warn_prf(average, modifier, msg_start, len(result))\n"
          ],
          "name": "stderr"
        },
        {
          "output_type": "stream",
          "text": [
            "Max Value uniform : 0.47037808787101293 (17)\n",
            "Max Value distance : 0.4167602137250441 (21)\n"
          ],
          "name": "stdout"
        },
        {
          "output_type": "display_data",
          "data": {
            "image/png": "[encoded data removed]",
            "text/plain": [
              "<Figure size 432x288 with 1 Axes>"
            ]
          },
          "metadata": {
            "tags": []
          }
        }
      ]
    },
    {
      "cell_type": "code",
      "metadata": {
        "colab": {
          "base_uri": "https://localhost:8080/"
        },
        "id": "NfTB-xFVtXsn",
        "outputId": "d427ccde-e4e1-4ed6-bb16-afb5c8371a4d"
      },
      "source": [
        "n_neighbors = 13\r\n",
        "weights = 'uniform'\r\n",
        "knn = neighbors.KNeighborsClassifier(n_neighbors= n_neighbors, weights=weights) \r\n",
        "# fit and predict\r\n",
        "knn.fit(X = train_knn.loc[:, train_knn.columns != 'target'], y = train_knn['target'])\r\n",
        "y_pred = knn.predict(X = test.loc[:, test_knn.columns != 'target'])\r\n",
        "precision, recall, fscore, support = score(test_knn['target'], y_pred)\r\n",
        "print(tabulate({'Name': ['hate speech', 'offensive lenguage', 'neither'], 'Class': [0,1,2],'Precision':precision, 'Recall': recall, 'F-Score': fscore, 'Support': support} , headers=['Name','Class','Precision', 'Recall','F-Score','Support'], tablefmt='orgtbl'))"
      ],
      "execution_count": null,
      "outputs": [
        {
          "output_type": "stream",
          "text": [
            "| Name               |   Class |   Precision |     Recall |    F-Score |   Support |\n",
            "|--------------------+---------+-------------+------------+------------+-----------|\n",
            "| hate speech        |       0 |    0.111111 | 0.00236407 | 0.00462963 |       423 |\n",
            "| offensive lenguage |       1 |    0.774074 | 0.977217   | 0.863863   |      5750 |\n",
            "| neither            |       2 |    0.155689 | 0.0206022  | 0.0363891  |      1262 |\n"
          ],
          "name": "stdout"
        }
      ]
    }
  ]
}